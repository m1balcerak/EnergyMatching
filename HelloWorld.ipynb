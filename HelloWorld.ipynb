{
 "cells": [
  {
   "cell_type": "markdown",
   "metadata": {},
   "source": [
    "# Hello World"
   ]
  },
  {
   "cell_type": "code",
   "execution_count": null,
   "metadata": {},
   "outputs": [],
   "source": [
    "print('Hello World')"
   ]
  },
  {
   "cell_type": "markdown",
   "metadata": {},
   "source": [
    "## Energy Matching Toy Example"
   ]
  },
  {
   "cell_type": "code",
   "execution_count": null,
   "metadata": {},
   "outputs": [],
   "source": [
    "\n",
    "import math\n",
    "import os\n",
    "import time\n",
    "\n",
    "import matplotlib.pyplot as plt\n",
    "import numpy as np\n",
    "import ot as pot\n",
    "import torch\n",
    "import torchdyn\n",
    "from torchdyn.core import NeuralODE\n",
    "from torchdyn.datasets import generate_moons\n",
    "\n",
    "from torchcfm.conditional_flow_matching import ExactOptimalTransportConditionalFlowMatcher\n",
    "from torchcfm.models.models import MLP, GradModel\n",
    "from torchcfm.utils import *\n",
    "\n",
    "savedir = 'energy_matching'\n",
    "os.makedirs(savedir, exist_ok=True)\n",
    "\n",
    "def plot_trajectories_custom(traj, filename=None):\n",
    "    n = 2000\n",
    "    plt.figure(figsize=(6, 6))\n",
    "    plt.scatter(traj[0, :n, 0], traj[0, :n, 1], s=10, alpha=0.8, c='black')\n",
    "    plt.scatter(traj[:, :n, 0], traj[:, :n, 1], s=0.2, alpha=0.2, c='olive')\n",
    "    plt.scatter(traj[-1, :n, 0], traj[-1, :n, 1], s=4, alpha=1, c='blue')\n",
    "    plt.legend(['Prior sample z(S)', 'Flow', 'z(0)'])\n",
    "    plt.xticks([])\n",
    "    plt.yticks([])\n",
    "    if filename:\n",
    "        plt.savefig(filename)\n",
    "        plt.close()\n",
    "    else:\n",
    "        plt.show()\n",
    "\n",
    "class MLP2(torch.nn.Module):\n",
    "    def __init__(self, dim, out_dim=None, w=64, time_varying=False):\n",
    "        super().__init__()\n",
    "        self.time_varying = time_varying\n",
    "        if out_dim is None:\n",
    "            out_dim = dim\n",
    "        self.net = torch.nn.Sequential(\n",
    "            torch.nn.Linear(dim + (1 if time_varying else 0), w),\n",
    "            torch.nn.ReLU(),\n",
    "            torch.nn.Linear(w, w),\n",
    "            torch.nn.SiLU(),\n",
    "            torch.nn.Linear(w, w),\n",
    "            torch.nn.SiLU(),\n",
    "            torch.nn.Linear(w, out_dim),\n",
    "        )\n",
    "    def forward(self, x):\n",
    "        return self.net(x)\n",
    "\n",
    "class StaticWrapper(torch.nn.Module):\n",
    "    def __init__(self, model):\n",
    "        super().__init__()\n",
    "        self.model = model\n",
    "    def forward(self, t, x, *args, **kwargs):\n",
    "        if not x.requires_grad:\n",
    "            x = x.clone().requires_grad_()\n",
    "        return self.model(x)\n",
    "\n",
    "sigma = 0.1\n",
    "dim = 2\n",
    "batch_size = 256\n",
    "potential_net = MLP2(dim=dim, out_dim=1, time_varying=False, w=256)\n",
    "model = StaticWrapper(GradModel(potential_net))\n",
    "optimizer = torch.optim.Adam(potential_net.parameters())\n",
    "FM = ExactOptimalTransportConditionalFlowMatcher(sigma=sigma)\n",
    "\n",
    "for k in range(20000):\n",
    "    optimizer.zero_grad()\n",
    "    x0 = sample_8gaussians(batch_size)\n",
    "    x1 = sample_moons(batch_size)\n",
    "    t, xt, ut = FM.sample_location_and_conditional_flow(x0, x1)\n",
    "    xt.requires_grad_(True)\n",
    "    V = potential_net(xt)\n",
    "    V_sum = V.sum()\n",
    "    dVdx = torch.autograd.grad(V_sum, xt, create_graph=True)[0]\n",
    "    vt = -dVdx\n",
    "    loss = torch.mean((vt - ut)**2)\n",
    "    loss.backward()\n",
    "    optimizer.step()\n",
    "    if (k + 1) % 100 == 0:\n",
    "        node = NeuralODE(torch_wrapper(model), solver='dopri5', sensitivity='adjoint', atol=1e-4, rtol=1e-4)\n",
    "        with torch.no_grad():\n",
    "            traj = node.trajectory(sample_8gaussians(1024), t_span=torch.linspace(0, 1, 100)).detach()\n",
    "            filename = os.path.join(savedir, f'trajectory_{k+1:05d}.png')\n",
    "            plot_trajectories_custom(traj.cpu().numpy(), filename)\n",
    "\n",
    "torch.save(model, f\"{savedir}/energy_matching_v1.pt\")\n"
   ]
  }
 ],
 "metadata": {
  "kernelspec": {
   "display_name": "Python 3",
   "language": "python",
   "name": "python3"
  },
  "language_info": {
   "name": "python",
   "version": "3"
  }
 },
 "nbformat": 4,
 "nbformat_minor": 2
}
