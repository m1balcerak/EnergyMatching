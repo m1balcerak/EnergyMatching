{
  "cells": [
    {
      "cell_type": "markdown",
      "metadata": {},
      "source": [
        "# Energy Matching: 2D Tutorial\n",
        "\n",
        "This notebook demonstrates training a scalar energy potential on a 2D dataset, mapping from an \"8 Gaussians\" distribution to a \"Two Moons\" target. The trained model is then used to perform:\n",
        "\n",
        "- (a) **Unconditional sample generation**\n",
        "- (b) **Conditional posterior sampling**\n",
        "- (c) **Conditional posterior sampling with additional interaction energies**"
      ]
    },
    {
      "cell_type": "markdown",
      "metadata": {},
      "source": [
        "Define the neural potential network used for energy modeling."
      ]
    },
    {
      "cell_type": "code",
      "execution_count": null,
      "metadata": {},
      "outputs": [],
      "source": [
        "import os\n",
        "import random\n",
        "import numpy as np\n",
        "import torch\n",
        "import torch.nn as nn\n",
        "\n",
        "class PotentialModel(nn.Module):\n",
        "    def __init__(self, dim=2, w=128, time_varying=True):\n",
        "        super().__init__()\n",
        "        self.time_varying = time_varying\n",
        "        self.net = nn.Sequential(\n",
        "            nn.Linear(dim + (1 if time_varying else 0), w),\n",
        "            nn.ReLU(),\n",
        "            nn.Linear(w, w),\n",
        "            nn.SiLU(),\n",
        "            nn.Linear(w, w),\n",
        "            nn.SiLU(),\n",
        "            nn.Linear(w, w),\n",
        "            nn.SiLU(),\n",
        "            nn.Linear(w, 1)\n",
        "        )\n",
        "\n",
        "    def forward(self, x, t=None):\n",
        "        if not self.time_varying:\n",
        "            return self.net(x)\n",
        "        if t is None:\n",
        "            raise ValueError('time_varying=True but t is None.')\n",
        "        if t.dim() == 0:\n",
        "            t = t.expand(x.size(0)).unsqueeze(-1)\n",
        "        elif t.dim() == 1:\n",
        "            if t.size(0) != x.size(0):\n",
        "                t = t.expand(x.size(0)).unsqueeze(-1)\n",
        "            else:\n",
        "                t = t.unsqueeze(-1)\n",
        "        t_clamped = torch.clamp(t, max=0.0)\n",
        "        inp = torch.cat([x, t_clamped], dim=-1)\n",
        "        return self.net(inp)\n"
      ]
    },
    {
      "cell_type": "markdown",
      "metadata": {},
      "source": [
        "Set hyperparameters and train the potential function."
      ]
    },
    {
      "cell_type": "code",
      "execution_count": null,
      "metadata": {},
      "outputs": [],
      "source": [
        "from utils_2D import train\n",
        "\n",
        "# Reproducibility\n",
        "SEED = 42\n",
        "os.environ['PYTHONHASHSEED'] = str(SEED)\n",
        "random.seed(SEED)\n",
        "np.random.seed(SEED)\n",
        "torch.manual_seed(SEED)\n",
        "\n",
        "device = torch.device('cuda' if torch.cuda.is_available() else 'cpu')\n",
        "\n",
        "# Hyperparameters\n",
        "epochs_phase1 = 200\n",
        "epochs_phase2 = 100\n",
        "batch_size = 256\n",
        "lr = 1e-4\n",
        "flow_loss_weight = 1.0\n",
        "ebm_loss_weight = 1.0\n",
        "sigma = 0.1\n",
        "save_dir = \"2D_toy\"\n",
        "\n",
        "# Noise schedule hyperparams (now fully user-controlled)\n",
        "tau_star = 0.8       # time at which noise begins\n",
        "epsilon_max = 0.15   # final (and ramp) noise level\n",
        "\n",
        "model = train(\n",
        "    PotentialModel,\n",
        "    device=device,\n",
        "    batch_size=batch_size,\n",
        "    lr=lr,\n",
        "    epochs_phase1=epochs_phase1,\n",
        "    epochs_phase2=epochs_phase2,\n",
        "    flow_weight=flow_loss_weight,\n",
        "    ebm_weight=ebm_loss_weight,\n",
        "    sigma=sigma,\n",
        "    save_dir=save_dir,\n",
        "    tau_star=tau_star,\n",
        "    epsilon_max=epsilon_max\n",
        ")"
      ]
    },
    {
      "cell_type": "markdown",
      "metadata": {},
      "source": [
        "### Update for Unconditional Generation\n",
        "\n",
        "This is the update for **unconditional sample generation**. At each step $n$, the state $x^{(n)}$ is updated using Langevin dynamics based on the learned potential $V_{\\theta}(x)$:\n",
        "\n",
        "```math\n",
        "x^{(n+1)} = x^{(n)} - \\Delta t\\, \\nabla_x V_{\\theta}(x^{(n)}) + \\sqrt{2 \\, \\varepsilon^{(n)} \\Delta t}\\, \\eta^{(n)}, \\quad \\eta^{(n)} \\sim \\mathcal{N}(0, I),\n",
        "```\n",
        "where $\\varepsilon^{(n)} = \\varepsilon(n\\Delta t)$  follows a piecewise linear **temperature schedule** given by:\n",
        "\n",
        "$\n",
        "\\varepsilon(t) = \n",
        "\\begin{cases}\n",
        "0, & 0 \\le t < \\tau^*, \\\\[6pt]\n",
        "\\varepsilon_{\\max}\\,\\frac{t - \\tau^*}{1 - \\tau^*}, & \\tau^* \\le t \\le 1, \\\\[6pt]\n",
        "\\varepsilon_{\\max}, & t \\ge 1.\n",
        "\\end{cases}\n",
        "$\n",
        "\n",
        "Here, $\\tau^*$ is the time when the temperature starts ramping up from $0$ to $\\varepsilon_{\\max}$, and for $t\\ge1$, the temperature remains constant at its maximum value."
      ]
    },
    {
      "cell_type": "code",
      "execution_count": null,
      "metadata": {},
      "outputs": [],
      "source": [
        "from utils_2D import simulate_piecewise_length, plot_trajectories_custom\n",
        "from torchcfm.utils import sample_8gaussians\n",
        "\n",
        "# Use the same tau_star, epsilon_max we used for training.\n",
        "x_init = sample_8gaussians(1024).to(next(model.parameters()).device)\n",
        "\n",
        "traj_np, times_np = simulate_piecewise_length(\n",
        "    model,\n",
        "    x_init,\n",
        "    dt=0.01,\n",
        "    max_length=400,\n",
        "    tau_star=tau_star,\n",
        "    epsilon_max=epsilon_max\n",
        ")\n",
        "\n",
        "plot_trajectories_custom(traj_np)"
      ]
    }
  ],
  "metadata": {
    "kernelspec": {
      "display_name": "energy-matching",
      "language": "python",
      "name": "python3"
    },
    "language_info": {
      "codemirror_mode": {
        "name": "ipython",
        "version": 3
      },
      "file_extension": ".py",
      "mimetype": "text/x-python",
      "name": "python",
      "nbconvert_exporter": "python",
      "pygments_lexer": "ipython3",
      "version": "3.10.16"
    }
  },
  "nbformat": 4,
  "nbformat_minor": 2
}
